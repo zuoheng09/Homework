{
 "cells": [
  {
   "cell_type": "markdown",
   "metadata": {},
   "source": [
    "各位同学，大家好!  欢迎各位开始学习我们的人工智能课程。  \n",
    "这门课程假设大家不具备机器学习和人工智能的知识，但是希望大家具备初级的Python编程能力。  \n",
    "这门课程结束后，希望大家掌握Python语言以及人工智能基础知识，对CV，NLP，RS领域有一定深入的理解与编程能力。"
   ]
  },
  {
   "cell_type": "markdown",
   "metadata": {},
   "source": [
    "# 本次作业要求"
   ]
  },
  {
   "cell_type": "markdown",
   "metadata": {},
   "source": [
    "## 作业形式"
   ]
  },
  {
   "cell_type": "markdown",
   "metadata": {},
   "source": [
    "复现课程代码  \n",
    "完成课后作业"
   ]
  },
  {
   "cell_type": "markdown",
   "metadata": {},
   "source": [
    "## 作业提交方式"
   ]
  },
  {
   "cell_type": "markdown",
   "metadata": {},
   "source": [
    "完成填写此`jupyter`文件，提交至自己的github(**请务必把GitHub按照班主任要求录入在Tremllo中**)"
   ]
  },
  {
   "cell_type": "markdown",
   "metadata": {},
   "source": [
    "## 作业截止时间"
   ]
  },
  {
   "cell_type": "markdown",
   "metadata": {},
   "source": [
    "每次课程作业都会在下次课程进行讲解，请在一周内尽快提交。  \n",
    "此次作业截止时间为:   2019年11月1日  \n",
    "此次作业批改截止时间：2019年11月8日"
   ]
  },
  {
   "cell_type": "markdown",
   "metadata": {},
   "source": [
    "# 完成以下问答和编程练习"
   ]
  },
  {
   "cell_type": "markdown",
   "metadata": {},
   "source": [
    "**理论部分**\n",
    "1. python中可以使用`import`导入哪些对象？  \n",
    "答案如下： \n",
    "```\n",
    "import <package>  \n",
    "import <module>  \n",
    "from <package> import <module or subpackage or object> # 变量 函数  \n",
    "from <module> import <object>  \n",
    "```\n",
    "\n",
    "2. 机器学习和函数/模块的思想有哪些异同？   \n",
    "答案如下：  \n",
    "相同点：都是通过一个模块来解决一个问题  \n",
    "不同点：函数：人为编写f, 然后输入x,输出y  \n",
    "          机器学习：给它x，y，然后自己学习f。\n",
    "       \n",
    "\n",
    "\n"
   ]
  },
  {
   "cell_type": "markdown",
   "metadata": {},
   "source": [
    "**编程实践部分**"
   ]
  },
  {
   "cell_type": "markdown",
   "metadata": {},
   "source": [
    "1. 安装 `numpy`, `matplotlib`,`sklearn`包, 并测试是否安装完成  \n",
    "如果遇到错误，请阅读错误并尝试自己解决  \n",
    "执行以下代码不报错\n",
    "``` python\n",
    "import numpy as np\n",
    "import matplotlib \n",
    "import sklearn\n",
    "```"
   ]
  },
  {
   "cell_type": "markdown",
   "metadata": {},
   "source": [
    "2. 打乱数据集  \n",
    "同时打乱 x,y，保证数据和标签的对应关系\n",
    "``` python\n",
    "x = ['快递太慢了！','不好吃','特别难吃','要齁死我了','很划算','下次还来','味道很不错！','香']\n",
    "y = ['差评','差评','差评','差评','好评','好评','好评','好评']\n",
    "```"
   ]
  },
  {
   "cell_type": "code",
   "execution_count": 21,
   "metadata": {},
   "outputs": [
    {
     "name": "stdout",
     "output_type": "stream",
     "text": [
      "特别难吃 : 差评\n",
      "味道很不错！ : 好评\n",
      "下次还来 : 好评\n",
      "要齁死我了 : 差评\n",
      "快递太慢了！ : 差评\n",
      "很划算 : 好评\n",
      "香 : 好评\n",
      "不好吃 : 差评\n"
     ]
    }
   ],
   "source": [
    "# you may need import some package\n",
    "import random\n",
    "x = ['快递太慢了！','不好吃','特别难吃','要齁死我了','很划算','下次还来','味道很不错！','香']\n",
    "y = ['差评','差评','差评','差评','好评','好评','好评','好评']\n",
    "\n",
    "def shuffle(x,y):\n",
    "    # your code here\n",
    "    a = list(zip(x,y))\n",
    "    random.shuffle(a)\n",
    "    x = list(zip(*a))[0]\n",
    "    y = list(zip(*a))[1]\n",
    "    return x,y\n",
    "x, y = shuffle(x, y)\n",
    "# print result for certify\n",
    "for i,j in zip(x,y):\n",
    "    print(i,':',j)"
   ]
  },
  {
   "cell_type": "markdown",
   "metadata": {},
   "source": [
    "3. 单词统计  \n",
    "使用函数，统计每个单词的出现次数，返回字典(查阅资料导入已完成此功能的包)\n",
    "``` python\n",
    "text = '2019 年 十月 一日 上午 ， 庆祝 中华人民共和国 成立 70 周年 阅兵式 在 首都北京 盛大举行 ， 59 个 阅兵 方阵 ， 580 台受 阅 装备 ， 1.5 万人 的 参阅 队伍 接受 了 全国 人民 的 检阅 。 阅兵 装备 方队 展示 的 武器装备 皆 为 国产 现役 主战 装备 ， 40% 为 首次 展示 。 其中 近些年来 广受 全球 关注 的 东风 41 洲际 弹道导弹 ， 巨浪 二潜射 弹道导弹 ， 东风 17 高超音速 武器 系统 终于 揭幕 亮剑 ， 以 \" 不怒 自威 \" 的 形象 向 世界 展示 中国 捍卫 和平 的 意志 与 力量 。 相较 于 其他 首度 公开 亮相 的 武器装备 ， 这 三款 武器 多年 来 传闻 不断 ， 备受 关注 ， 并 因 其 \" 大国 基石 \" 的 地位 而 被 公众 赋予 特殊 的 期待 ， 这 三款 武器装备 实力 究竟 如何 ， 又 各自 承担 着 怎样 的 历史 \" 使命 \" 呢 ？ 本报 特约 相关 领域 军事 专家 ， 为 大家 详细 解读 这 三款 彰显 国威 ， 震撼 世界 的 国 之 重器 。'\n",
    "```"
   ]
  },
  {
   "cell_type": "code",
   "execution_count": 22,
   "metadata": {},
   "outputs": [
    {
     "name": "stdout",
     "output_type": "stream",
     "text": [
      "{'皆': 1, '揭幕': 1, '方阵': 1, '系统': 1, '如何': 1, '参阅': 1, '41': 1, '与': 1, '其他': 1, '着': 1, '向': 1, '解读': 1, '台受': 1, '公开': 1, '现役': 1, '全球': 1, '呢': 1, '武器装备': 3, '承担': 1, '年': 1, '重器': 1, '相关': 1, '首都北京': 1, '多年': 1, '震撼': 1, '于': 1, '17': 1, '。': 4, '因': 1, '一日': 1, '期待': 1, '上午': 1, '70': 1, '队伍': 1, '阅兵式': 1, '特约': 1, '并': 1, '十月': 1, '的': 11, '世界': 2, '大家': 1, '周年': 1, '国': 1, '历史': 1, '方队': 1, '580': 1, '首度': 1, '二潜射': 1, '巨浪': 1, '以': 1, '使命': 1, '中国': 1, '首次': 1, '阅兵': 2, '基石': 1, '专家': 1, '意志': 1, '接受': 1, '人民': 1, '不怒': 1, '不断': 1, '，': 15, '军事': 1, '领域': 1, '59': 1, '\"': 6, '为': 3, '国产': 1, '装备': 3, '检阅': 1, '传闻': 1, '其中': 1, '成立': 1, '被': 1, '关注': 2, '和平': 1, '1.5': 1, '实力': 1, '东风': 2, '这': 3, '阅': 1, '相较': 1, '武器': 2, '地位': 1, '怎样': 1, '三款': 3, '而': 1, '洲际': 1, '终于': 1, '2019': 1, '特殊': 1, '了': 1, '力量': 1, '中华人民共和国': 1, '庆祝': 1, '其': 1, '40%': 1, '展示': 3, '本报': 1, '公众': 1, '亮剑': 1, '形象': 1, '主战': 1, '大国': 1, '彰显': 1, '究竟': 1, '详细': 1, '各自': 1, '广受': 1, '自威': 1, '个': 1, '？': 1, '亮相': 1, '国威': 1, '万人': 1, '来': 1, '在': 1, '又': 1, '弹道导弹': 2, '全国': 1, '备受': 1, '近些年来': 1, '盛大举行': 1, '赋予': 1, '之': 1, '捍卫': 1, '高超音速': 1}\n"
     ]
    }
   ],
   "source": [
    "from collections import Counter\n",
    "\n",
    "def count_words(text):\n",
    "    # your code here\n",
    "    text = text.split()\n",
    "    text_uni = list(set(text))\n",
    "    text_dict = {}\n",
    "    for i in range(len(text_uni)):\n",
    "        text_dict[text_uni[i]] = Counter(text)[text_uni[i]]\n",
    "    # return dict\n",
    "    return text_dict\n",
    "    \n",
    "\n",
    "# test \n",
    "text = '2019 年 十月 一日 上午 ， 庆祝 中华人民共和国 成立 70 周年 阅兵式 在 首都北京 盛大举行 ， 59 个 阅兵 方阵 ， 580 台受 阅 装备 ， 1.5 万人 的 参阅 队伍 接受 了 全国 人民 的 检阅 。 阅兵 装备 方队 展示 的 武器装备 皆 为 国产 现役 主战 装备 ， 40% 为 首次 展示 。 其中 近些年来 广受 全球 关注 的 东风 41 洲际 弹道导弹 ， 巨浪 二潜射 弹道导弹 ， 东风 17 高超音速 武器 系统 终于 揭幕 亮剑 ， 以 \" 不怒 自威 \" 的 形象 向 世界 展示 中国 捍卫 和平 的 意志 与 力量 。 相较 于 其他 首度 公开 亮相 的 武器装备 ， 这 三款 武器 多年 来 传闻 不断 ， 备受 关注 ， 并 因 其 \" 大国 基石 \" 的 地位 而 被 公众 赋予 特殊 的 期待 ， 这 三款 武器装备 实力 究竟 如何 ， 又 各自 承担 着 怎样 的 历史 \" 使命 \" 呢 ？ 本报 特约 相关 领域 军事 专家 ， 为 大家 详细 解读 这 三款 彰显 国威 ， 震撼 世界 的 国 之 重器 。'\n",
    "print(count_words(text))"
   ]
  },
  {
   "cell_type": "markdown",
   "metadata": {},
   "source": [
    "# 结束语"
   ]
  },
  {
   "cell_type": "markdown",
   "metadata": {},
   "source": [
    "各位同学，我们已经学会了如何导包及安装包。  \n",
    "这个是后期AI课程的基础，大家一定要加油呀~"
   ]
  }
 ],
 "metadata": {
  "kernelspec": {
   "display_name": "Python 3",
   "language": "python",
   "name": "python3"
  },
  "language_info": {
   "codemirror_mode": {
    "name": "ipython",
    "version": 3
   },
   "file_extension": ".py",
   "mimetype": "text/x-python",
   "name": "python",
   "nbconvert_exporter": "python",
   "pygments_lexer": "ipython3",
   "version": "3.7.3"
  }
 },
 "nbformat": 4,
 "nbformat_minor": 4
}
